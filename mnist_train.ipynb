{
 "cells": [
  {
   "cell_type": "code",
   "execution_count": 1,
   "metadata": {},
   "outputs": [
    {
     "name": "stderr",
     "output_type": "stream",
     "text": [
      "Using TensorFlow backend.\n"
     ]
    }
   ],
   "source": [
    "import pandas as pd\n",
    "import numpy as np\n",
    "import matplotlib.pyplot as plt\n",
    "import seaborn as sns\n",
    "from keras.utils import np_utils\n",
    "%matplotlib inline"
   ]
  },
  {
   "cell_type": "code",
   "execution_count": 2,
   "metadata": {},
   "outputs": [],
   "source": [
    "data = pd.read_csv('train.csv').values\n",
    "label = data[:,0]\n",
    "data = data[:,1:]"
   ]
  },
  {
   "cell_type": "code",
   "execution_count": 3,
   "metadata": {},
   "outputs": [
    {
     "data": {
      "image/png": "[encoded data removed]",
      "text/plain": [
       "<Figure size 432x288 with 1 Axes>"
      ]
     },
     "metadata": {
      "needs_background": "light"
     },
     "output_type": "display_data"
    }
   ],
   "source": [
    "g = sns.countplot(label)"
   ]
  },
  {
   "cell_type": "code",
   "execution_count": 4,
   "metadata": {},
   "outputs": [
    {
     "data": {
      "text/plain": [
       "(42000, 784)"
      ]
     },
     "execution_count": 4,
     "metadata": {},
     "output_type": "execute_result"
    }
   ],
   "source": [
    "data.shape"
   ]
  },
  {
   "cell_type": "code",
   "execution_count": 5,
   "metadata": {},
   "outputs": [],
   "source": [
    "train_data = data[:35000,:]\n",
    "valid_data = data[35000:,:]\n",
    "\n",
    "train_data = train_data.reshape(train_data.shape[0], 1, 28, 28).astype('float32')\n",
    "valid_data = valid_data.reshape(valid_data.shape[0], 1, 28, 28).astype('float32')\n",
    "\n",
    "train_data = train_data/255\n",
    "valid_data = valid_data/255\n",
    "\n",
    "train_label = label[:35000]\n",
    "valid_label = label[35000:]\n",
    "\n",
    "train_label = np_utils.to_categorical(train_label)\n",
    "valid_label = np_utils.to_categorical(valid_label)"
   ]
  },
  {
   "cell_type": "code",
   "execution_count": 6,
   "metadata": {},
   "outputs": [
    {
     "name": "stdout",
     "output_type": "stream",
     "text": [
      "train_data shape:  (35000, 1, 28, 28)\n",
      "train_label shape:  (35000, 10)\n",
      "valid_data shape:  (7000, 1, 28, 28)\n",
      "valid_label shape:  (7000, 10)\n"
     ]
    }
   ],
   "source": [
    "print(\"train_data shape: \",train_data.shape)\n",
    "print(\"train_label shape: \",train_label.shape)\n",
    "print(\"valid_data shape: \",valid_data.shape)\n",
    "print(\"valid_label shape: \",valid_label.shape)"
   ]
  },
  {
   "cell_type": "code",
   "execution_count": 7,
   "metadata": {},
   "outputs": [],
   "source": [
    "from keras.models import Sequential\n",
    "from keras.layers import Dense, Dropout, Flatten\n",
    "from keras.layers.convolutional import Conv2D, MaxPooling2D\n",
    "from keras.utils import np_utils\n",
    "#from keras import backend as K\n",
    "#K.set_image_dim_ordering('th')\n",
    "\n",
    "# fix random seed for reproducibility\n",
    "seed = 7\n",
    "np.random.seed(seed)"
   ]
  },
  {
   "cell_type": "code",
   "execution_count": 8,
   "metadata": {},
   "outputs": [],
   "source": [
    "def create_model():\n",
    "    # create model\n",
    "    model = Sequential()\n",
    "    model.add(Conv2D(32, (5,5), input_shape=(1, 28, 28), activation='relu',data_format='channels_first'))\n",
    "    model.add(MaxPooling2D(pool_size=(2, 2)))\n",
    "    model.add(Dropout(0.2))\n",
    "    model.add(Flatten())\n",
    "    model.add(Dense(128, activation='relu'))\n",
    "    model.add(Dense(10, activation='softmax'))\n",
    "    # Compile model\n",
    "    model.compile(loss='categorical_crossentropy', optimizer='adam', metrics=['accuracy'])\n",
    "    return model"
   ]
  },
  {
   "cell_type": "code",
   "execution_count": 9,
   "metadata": {},
   "outputs": [
    {
     "name": "stdout",
     "output_type": "stream",
     "text": [
      "Train on 35000 samples, validate on 7000 samples\n",
      "Epoch 1/10\n",
      " - 56s - loss: 0.2716 - accuracy: 0.9200 - val_loss: 0.1010 - val_accuracy: 0.9683\n",
      "Epoch 2/10\n",
      " - 56s - loss: 0.0871 - accuracy: 0.9741 - val_loss: 0.0688 - val_accuracy: 0.9790\n",
      "Epoch 3/10\n",
      " - 56s - loss: 0.0562 - accuracy: 0.9825 - val_loss: 0.0581 - val_accuracy: 0.9806\n",
      "Epoch 4/10\n",
      " - 55s - loss: 0.0427 - accuracy: 0.9874 - val_loss: 0.0512 - val_accuracy: 0.9837\n",
      "Epoch 5/10\n",
      " - 56s - loss: 0.0327 - accuracy: 0.9899 - val_loss: 0.0536 - val_accuracy: 0.9841\n",
      "Epoch 6/10\n",
      " - 59s - loss: 0.0248 - accuracy: 0.9917 - val_loss: 0.0553 - val_accuracy: 0.9844\n",
      "Epoch 7/10\n",
      " - 58s - loss: 0.0197 - accuracy: 0.9938 - val_loss: 0.0531 - val_accuracy: 0.9841\n",
      "Epoch 8/10\n",
      " - 59s - loss: 0.0159 - accuracy: 0.9951 - val_loss: 0.0449 - val_accuracy: 0.9867\n",
      "Epoch 9/10\n",
      " - 68s - loss: 0.0152 - accuracy: 0.9948 - val_loss: 0.0495 - val_accuracy: 0.9867\n",
      "Epoch 10/10\n",
      " - 68s - loss: 0.0121 - accuracy: 0.9963 - val_loss: 0.0533 - val_accuracy: 0.9853\n"
     ]
    },
    {
     "data": {
      "text/plain": [
       "<keras.callbacks.callbacks.History at 0x2a234abcbc8>"
      ]
     },
     "execution_count": 9,
     "metadata": {},
     "output_type": "execute_result"
    }
   ],
   "source": [
    "# build the model\n",
    "model = create_model()\n",
    "# Fit the model\n",
    "model.fit(train_data, train_label, validation_data=(valid_data, valid_label),epochs=10, batch_size=100, verbose=2)"
   ]
  },
  {
   "cell_type": "code",
   "execution_count": 10,
   "metadata": {},
   "outputs": [
    {
     "name": "stdout",
     "output_type": "stream",
     "text": [
      "CNN Error: 1.47%\n"
     ]
    }
   ],
   "source": [
    "scores = model.evaluate(valid_data, valid_label, verbose=0)\n",
    "print(\"CNN Error: %.2f%%\" % (100-scores[1]*100))"
   ]
  },
  {
   "cell_type": "code",
   "execution_count": 11,
   "metadata": {},
   "outputs": [
    {
     "name": "stdout",
     "output_type": "stream",
     "text": [
      "model weights saved in model.h5 file\n"
     ]
    }
   ],
   "source": [
    "model.save(\"model.h5\")\n",
    "print(\"model weights saved in model.h5 file\")"
   ]
  },
  {
   "cell_type": "code",
   "execution_count": 12,
   "metadata": {},
   "outputs": [
    {
     "name": "stdout",
     "output_type": "stream",
     "text": [
      "model saved as model.json file\n"
     ]
    }
   ],
   "source": [
    "from keras.models import model_from_json\n",
    "model_json = model.to_json()\n",
    "with open(\"model.json\", \"w\") as json_file:\n",
    "    json_file.write(model_json)\n",
    "print(\"model saved as model.json file\")"
   ]
  },
  {
   "cell_type": "code",
   "execution_count": null,
   "metadata": {},
   "outputs": [],
   "source": []
  }
 ],
 "metadata": {
  "kernelspec": {
   "display_name": "Python 3",
   "language": "python",
   "name": "python3"
  },
  "language_info": {
   "codemirror_mode": {
    "name": "ipython",
    "version": 3
   },
   "file_extension": ".py",
   "mimetype": "text/x-python",
   "name": "python",
   "nbconvert_exporter": "python",
   "pygments_lexer": "ipython3",
   "version": "3.7.4"
  }
 },
 "nbformat": 4,
 "nbformat_minor": 2
}
